{
 "cells": [
  {
   "cell_type": "markdown",
   "id": "nominated-sight",
   "metadata": {},
   "source": [
    "Data from [Kaggle](https://www.kaggle.com/josephvm/major-league-soccer-dataset?select=all_goalkeepers.csv)\n",
    "\n",
    "Player df:\n",
    "\n",
    "| Player| Club| POS| GP| GS| MINS| G| A| SHTS| SOG| GWG| PKG/A| HmG| RdG| G/90min| SC%| GWA| HmA| RdA| A/90min| FC| FS| OFF| YC| RC| SOG%| Year| Season |\n",
    "| -- | -- | -- | -- | -- | -- | -- | -- | -- | -- | -- | -- | -- | -- | -- | -- | -- | -- | -- | -- | -- | -- | -- | -- | -- | -- | -- | -- |\n",
    "|Name|Club|Position|Games Played|Games Started|Minutes Played|Goals Scored|Assists|Shots|Shots on Goal|Game Winning Goal|Penakty kicks converted/attampted|Home Goals|Road Goals|Goals per 90 Minutes|Shot Conversion (SHTS/G)|Game Winning Assists|Home Assists|Road Assists|Assists per 90 Minutes|Fouls Committed|Fouls Suffered|Offsides|Yellow Cards|Red Cards|Shots on Goal Percentage|Year|reg/post|\n"
   ]
  },
  {
   "cell_type": "code",
   "execution_count": 1,
   "id": "protecting-bridge",
   "metadata": {},
   "outputs": [],
   "source": [
    "import pandas as pd\n",
    "import numpy as np\n",
    "import matplotlib.pyplot as plt"
   ]
  },
  {
   "cell_type": "code",
   "execution_count": 24,
   "id": "christian-event",
   "metadata": {},
   "outputs": [
    {
     "name": "stderr",
     "output_type": "stream",
     "text": [
      "/Users/solgaleo/anaconda3/lib/python3.7/site-packages/IPython/core/interactiveshell.py:3147: DtypeWarning: Columns (11,14,50,102,123,125,129,131,133,135,137,139,141,143,145,147,149,157,158,160,161,163,165,167,169,171,173,184,186,187,205,206) have mixed types.Specify dtype option on import or set low_memory=False.\n",
      "  interactivity=interactivity, compiler=compiler, result=result)\n"
     ]
    }
   ],
   "source": [
    "# match_df = pd.read_csv(\"major-league-soccer-dataset/matches.csv\", thousands=',')\n",
    "# event_df = pd.read_csv(\"major-league-soccer-dataset/events.csv\")\n",
    "# table_df = pd.read_csv(\"major-league-soccer-dataset/all_tables.csv\")\n",
    "player_df = pd.read_csv(\"major-league-soccer-dataset/all_players.csv\")\n",
    "# gk_df = pd.read_csv(\"major-league-soccer-dataset/all_goalkeepers.csv\")"
   ]
  },
  {
   "cell_type": "code",
   "execution_count": 47,
   "id": "novel-jaguar",
   "metadata": {},
   "outputs": [
    {
     "name": "stdout",
     "output_type": "stream",
     "text": [
      "| -- | -- | -- | -- | -- | -- | -- | -- | -- | -- | -- | -- | -- | -- | -- | -- | -- | -- | -- | -- | -- | -- | -- | -- | -- | -- | -- | -- "
     ]
    }
   ],
   "source": [
    "for i in player_df.columns.to_list():\n",
    "    print(\"| -- \", end='')"
   ]
  },
  {
   "cell_type": "code",
   "execution_count": 32,
   "id": "compliant-merchant",
   "metadata": {},
   "outputs": [
    {
     "data": {
      "text/html": [
       "<div>\n",
       "<style scoped>\n",
       "    .dataframe tbody tr th:only-of-type {\n",
       "        vertical-align: middle;\n",
       "    }\n",
       "\n",
       "    .dataframe tbody tr th {\n",
       "        vertical-align: top;\n",
       "    }\n",
       "\n",
       "    .dataframe thead th {\n",
       "        text-align: right;\n",
       "    }\n",
       "</style>\n",
       "<table border=\"1\" class=\"dataframe\">\n",
       "  <thead>\n",
       "    <tr style=\"text-align: right;\">\n",
       "      <th></th>\n",
       "      <th>Player</th>\n",
       "      <th>Club</th>\n",
       "      <th>POS</th>\n",
       "      <th>GP</th>\n",
       "      <th>GS</th>\n",
       "      <th>MINS</th>\n",
       "      <th>G</th>\n",
       "      <th>A</th>\n",
       "      <th>SHTS</th>\n",
       "      <th>SOG</th>\n",
       "      <th>...</th>\n",
       "      <th>RdA</th>\n",
       "      <th>A/90min</th>\n",
       "      <th>FC</th>\n",
       "      <th>FS</th>\n",
       "      <th>OFF</th>\n",
       "      <th>YC</th>\n",
       "      <th>RC</th>\n",
       "      <th>SOG%</th>\n",
       "      <th>Year</th>\n",
       "      <th>Season</th>\n",
       "    </tr>\n",
       "  </thead>\n",
       "  <tbody>\n",
       "    <tr>\n",
       "      <th>15071</th>\n",
       "      <td>Alejandro Pozuelo</td>\n",
       "      <td>NaN</td>\n",
       "      <td>M</td>\n",
       "      <td>1</td>\n",
       "      <td>1</td>\n",
       "      <td>120</td>\n",
       "      <td>0</td>\n",
       "      <td>0</td>\n",
       "      <td>5</td>\n",
       "      <td>0</td>\n",
       "      <td>...</td>\n",
       "      <td>0</td>\n",
       "      <td>0.0</td>\n",
       "      <td>2</td>\n",
       "      <td>0</td>\n",
       "      <td>0</td>\n",
       "      <td>0</td>\n",
       "      <td>0</td>\n",
       "      <td>0.00</td>\n",
       "      <td>2020</td>\n",
       "      <td>post</td>\n",
       "    </tr>\n",
       "    <tr>\n",
       "      <th>15072</th>\n",
       "      <td>Franco Jara</td>\n",
       "      <td>NaN</td>\n",
       "      <td>F</td>\n",
       "      <td>2</td>\n",
       "      <td>2</td>\n",
       "      <td>210</td>\n",
       "      <td>0</td>\n",
       "      <td>0</td>\n",
       "      <td>5</td>\n",
       "      <td>1</td>\n",
       "      <td>...</td>\n",
       "      <td>0</td>\n",
       "      <td>0.0</td>\n",
       "      <td>6</td>\n",
       "      <td>2</td>\n",
       "      <td>3</td>\n",
       "      <td>0</td>\n",
       "      <td>0</td>\n",
       "      <td>20.00</td>\n",
       "      <td>2020</td>\n",
       "      <td>post</td>\n",
       "    </tr>\n",
       "    <tr>\n",
       "      <th>15073</th>\n",
       "      <td>Andy Polo</td>\n",
       "      <td>NaN</td>\n",
       "      <td>M</td>\n",
       "      <td>1</td>\n",
       "      <td>1</td>\n",
       "      <td>105</td>\n",
       "      <td>0</td>\n",
       "      <td>0</td>\n",
       "      <td>6</td>\n",
       "      <td>3</td>\n",
       "      <td>...</td>\n",
       "      <td>0</td>\n",
       "      <td>0.0</td>\n",
       "      <td>0</td>\n",
       "      <td>3</td>\n",
       "      <td>0</td>\n",
       "      <td>0</td>\n",
       "      <td>0</td>\n",
       "      <td>50.00</td>\n",
       "      <td>2020</td>\n",
       "      <td>post</td>\n",
       "    </tr>\n",
       "    <tr>\n",
       "      <th>15074</th>\n",
       "      <td>Cristian Roldan</td>\n",
       "      <td>NaN</td>\n",
       "      <td>M</td>\n",
       "      <td>4</td>\n",
       "      <td>4</td>\n",
       "      <td>360</td>\n",
       "      <td>0</td>\n",
       "      <td>0</td>\n",
       "      <td>6</td>\n",
       "      <td>1</td>\n",
       "      <td>...</td>\n",
       "      <td>0</td>\n",
       "      <td>0.0</td>\n",
       "      <td>5</td>\n",
       "      <td>11</td>\n",
       "      <td>0</td>\n",
       "      <td>0</td>\n",
       "      <td>0</td>\n",
       "      <td>16.67</td>\n",
       "      <td>2020</td>\n",
       "      <td>post</td>\n",
       "    </tr>\n",
       "    <tr>\n",
       "      <th>15075</th>\n",
       "      <td>Joevin Jones</td>\n",
       "      <td>NaN</td>\n",
       "      <td>D-M</td>\n",
       "      <td>4</td>\n",
       "      <td>4</td>\n",
       "      <td>260</td>\n",
       "      <td>0</td>\n",
       "      <td>0</td>\n",
       "      <td>8</td>\n",
       "      <td>1</td>\n",
       "      <td>...</td>\n",
       "      <td>0</td>\n",
       "      <td>0.0</td>\n",
       "      <td>1</td>\n",
       "      <td>7</td>\n",
       "      <td>0</td>\n",
       "      <td>0</td>\n",
       "      <td>0</td>\n",
       "      <td>12.50</td>\n",
       "      <td>2020</td>\n",
       "      <td>post</td>\n",
       "    </tr>\n",
       "  </tbody>\n",
       "</table>\n",
       "<p>5 rows × 28 columns</p>\n",
       "</div>"
      ],
      "text/plain": [
       "                  Player Club  POS  GP  GS  MINS  G  A  SHTS  SOG  ...  RdA  \\\n",
       "15071  Alejandro Pozuelo  NaN    M   1   1   120  0  0     5    0  ...    0   \n",
       "15072        Franco Jara  NaN    F   2   2   210  0  0     5    1  ...    0   \n",
       "15073          Andy Polo  NaN    M   1   1   105  0  0     6    3  ...    0   \n",
       "15074    Cristian Roldan  NaN    M   4   4   360  0  0     6    1  ...    0   \n",
       "15075       Joevin Jones  NaN  D-M   4   4   260  0  0     8    1  ...    0   \n",
       "\n",
       "      A/90min  FC  FS  OFF  YC  RC   SOG%  Year  Season  \n",
       "15071     0.0   2   0    0   0   0   0.00  2020    post  \n",
       "15072     0.0   6   2    3   0   0  20.00  2020    post  \n",
       "15073     0.0   0   3    0   0   0  50.00  2020    post  \n",
       "15074     0.0   5  11    0   0   0  16.67  2020    post  \n",
       "15075     0.0   1   7    0   0   0  12.50  2020    post  \n",
       "\n",
       "[5 rows x 28 columns]"
      ]
     },
     "execution_count": 32,
     "metadata": {},
     "output_type": "execute_result"
    }
   ],
   "source": [
    "player_df.tail()"
   ]
  },
  {
   "cell_type": "code",
   "execution_count": 37,
   "id": "massive-tablet",
   "metadata": {},
   "outputs": [],
   "source": [
    "player = player_df"
   ]
  },
  {
   "cell_type": "code",
   "execution_count": 40,
   "id": "processed-afghanistan",
   "metadata": {},
   "outputs": [
    {
     "data": {
      "text/plain": [
       "<matplotlib.collections.PathCollection at 0x7fbd5e9bfb90>"
      ]
     },
     "execution_count": 40,
     "metadata": {},
     "output_type": "execute_result"
    },
    {
     "data": {
      "image/png": "[encoded data removed]",
      "text/plain": [
       "<Figure size 432x288 with 1 Axes>"
      ]
     },
     "metadata": {
      "needs_background": "light"
     },
     "output_type": "display_data"
    }
   ],
   "source": [
    "values, counts = np.unique(player['Season'], return_counts=True)\n",
    "plt.scatter(values, counts, label=\"sample\", zorder=2)"
   ]
  },
  {
   "cell_type": "code",
   "execution_count": null,
   "id": "structural-hybrid",
   "metadata": {},
   "outputs": [],
   "source": []
  }
 ],
 "metadata": {
  "kernelspec": {
   "display_name": "Python 3",
   "language": "python",
   "name": "python3"
  },
  "language_info": {
   "codemirror_mode": {
    "name": "ipython",
    "version": 3
   },
   "file_extension": ".py",
   "mimetype": "text/x-python",
   "name": "python",
   "nbconvert_exporter": "python",
   "pygments_lexer": "ipython3",
   "version": "3.7.9"
  }
 },
 "nbformat": 4,
 "nbformat_minor": 5
}
